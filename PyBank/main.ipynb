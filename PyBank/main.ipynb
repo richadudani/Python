# Assignment 2 - python-homework

# Python script for analyzing the financial records of the company based on monthly Profit/Losses

# Initialize a dictionary of dates and profit/losses
fin_data = {
#"Date" : Profit/Losses,
"Jan-10" : 867884, "Feb-10" : 984655, "Mar-10" : 322013, "Apr-10" : -69417,"May-10" : 310503, "Jun-10" : 522857, 
"Jul-10" : 1033096, "Aug-10" : 604885, "Sep-10" : -216386, "Oct-10" : 477532, "Nov-10" : 893810, "Dec-10" : -80353,
"Jan-11" : 779806, "Feb-11" : -335203, "Mar-11" : 697845, "Apr-11" : 793163, "May-11" : 485070, "Jun-11" : 584122, 
"Jul-11" : 62729, "Aug-11" : 668179, "Sep-11" : 899906, "Oct-11" : 834719, "Nov-11" : 132003, "Dec-11" : 309978,
"Jan-12" : -755566, "Feb-12" : 1170593, "Mar-12" : 252788, "Apr-12" : 1151518, "May-12" : 817256, "Jun-12" : 570757, 
"Jul-12" : 506702, "Aug-12" : -1022534, "Sep-12" : 475062, "Oct-12" : 779976, "Nov-12" : 144175, "Dec-12" : 542494,
"Jan-13" : 359333, "Feb-13" : 321469, "Mar-13" : 67780, "Apr-13" : 471435, "May-13" : 565603, "Jun-13" : 872480, 
"Jul-13" : 789480, "Aug-13" : 999942, "Sep-13" : -1196225, "Oct-13" : 268997, "Nov-13" : -687986, "Dec-13" : 1150461,
"Jan-14" : 682458, "Feb-14" : 617856, "Mar-14" : 824098, "Apr-14" : 581943, "May-14" : 132864, "Jun-14" : 448062, 
"Jul-14" : 689161, "Aug-14" : 800701, "Sep-14" : 1166643, "Oct-14" : 947333, "Nov-14" : 578668, "Dec-14" : 988505,
"Jan-15" : 1139715, "Feb-15" : 1029471, "Mar-15" : 687533, "Apr-15" : -524626, "May-15" : 158620, "Jun-15" : 87795, 
"Jul-15" : 423389, "Aug-15" : 840723, "Sep-15" : 568529, "Oct-15" : 332067, "Nov-15" : 989499, "Dec-15" : 778237,
"Jan-16" : 650000, "Feb-16" : -1100387, "Mar-16" : -174946, "Apr-16" : 757143, "May-16" : 445709, "Jun-16" : 712961,  
"Jul-16" : -1163797, "Aug-16" : 569899, "Sep-16" : 768450, "Oct-16" : 102685, "Nov-16" : 795914, "Dec-16" : 60988,
"Jan-17" : 138230, "Feb-17" : 671099,
}
 
#---------Method1 - Summing total number of months and total Profit/Losses using a len & sum functions on the dictionary
#print(f"Total Months: {len(fin_data)}")
#print(f"Total: ${sum(fin_data.values())}")

#---------Method 2 - Summing total Profit/Losses using for loop
# list out keys
key_list = list(fin_data.keys())

# Initializing total months, total, greatest increase/decrease in Profit/Losses over the entire period
tot_months = 0
total = 0
gret_increase_in_profit =0
gret_decrease_in_profit =0

# Calculate total months, total over the entire period
for x in key_list:
       tot_months = tot_months + 1
       total = total + fin_data[x]

# Initialize the dictionary with empty lists, then iterate(in the order of the keys) to append each item in their list
diff_data = []

# Calculate average of the changes in Profit/Losses, greatest increase in profits (date and amount) over the entire period.
for i in range(0, len(key_list)):
    if (i==0):
        mon_diff = 0
    else:
        mon_diff = fin_data[key_list[i]] - fin_data[key_list[i-1]]
    diff_data.append(mon_diff)

# Combining monthly change in Profit/Losses with the month in which they occured     
month_change = dict(zip(key_list, diff_data))

# Calculating average of monthly changes, greatest increase/decrease in Profit/Losses 
monthly_average = round(sum(diff_data)/(len(diff_data) -1),2)
gret_increase_in_profit = max(diff_data)
gret_decrease_in_profit = min(diff_data)

# Finding months for corresponding greatest increase/decrease in Profit/Losses
for mon, gret in month_change.items():
    if gret == gret_increase_in_profit:
        increase_mon= mon
    if gret == gret_decrease_in_profit:
        decrease_mon= mon       

# Printing Total Months, Total, monthly changes, greatest increase/decrease in Profit/Losses 
print(f"Financial Analysis")
print(f"----------------------------")
print(f"Total Months: {tot_months}")
print(f"Total: ${total}")
print(f"Average  Change: ${monthly_average}")
print(f"Greatest Increase in Profits: {increase_mon} (${gret_increase_in_profit})")
print(f"Greatest Decrease in Profits: {decrease_mon} (${gret_decrease_in_profit})")


# Exporting a text file with the results
file = open('Financial Analysis.txt', 'w')
file.write(f"Financial Analysis\n")
file.write(f"----------------------------\n")
file.write(f"Total Months: {tot_months}\n")
file.write(f"Total: ${total}\n")
file.write(f"Average  Change: ${monthly_average}\n")
file.write(f"Greatest Increase in Profits: {increase_mon} (${gret_increase_in_profit})\n")
file.write(f"Greatest Decrease in Profits: {decrease_mon} (${gret_decrease_in_profit})")
file.close()
